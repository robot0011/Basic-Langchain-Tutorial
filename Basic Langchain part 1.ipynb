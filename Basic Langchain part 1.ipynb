{
 "cells": [
  {
   "cell_type": "markdown",
   "metadata": {},
   "source": [
    "# Apa Itu Langchain ?"
   ]
  },
  {
   "cell_type": "code",
   "execution_count": 109,
   "metadata": {},
   "outputs": [
    {
     "name": "stdout",
     "output_type": "stream",
     "text": [
      "Requirement already satisfied: tavily-python in /home/faqih/UU Copilot_v2/backend/langchain/lib/python3.8/site-packages (0.5.0)\n",
      "Requirement already satisfied: langchain in /home/faqih/UU Copilot_v2/backend/langchain/lib/python3.8/site-packages (0.2.16)\n",
      "Requirement already satisfied: openai in /home/faqih/UU Copilot_v2/backend/langchain/lib/python3.8/site-packages (1.51.2)\n",
      "Requirement already satisfied: chromadb in /home/faqih/UU Copilot_v2/backend/langchain/lib/python3.8/site-packages (0.5.13)\n",
      "Requirement already satisfied: langchain-experimental in /home/faqih/UU Copilot_v2/backend/langchain/lib/python3.8/site-packages (0.0.65)\n",
      "Requirement already satisfied: pypdf in /home/faqih/UU Copilot_v2/backend/langchain/lib/python3.8/site-packages (5.0.1)\n",
      "Requirement already satisfied: langchain-openai in /home/faqih/UU Copilot_v2/backend/langchain/lib/python3.8/site-packages (0.1.25)\n",
      "Requirement already satisfied: langchainhub in /home/faqih/UU Copilot_v2/backend/langchain/lib/python3.8/site-packages (0.1.21)\n",
      "Requirement already satisfied: langchain-chroma in /home/faqih/UU Copilot_v2/backend/langchain/lib/python3.8/site-packages (0.1.4)\n",
      "Requirement already satisfied: requests in /home/faqih/UU Copilot_v2/backend/langchain/lib/python3.8/site-packages (from tavily-python) (2.32.3)\n",
      "Requirement already satisfied: tiktoken>=0.5.1 in /home/faqih/UU Copilot_v2/backend/langchain/lib/python3.8/site-packages (from tavily-python) (0.7.0)\n",
      "Requirement already satisfied: httpx in /home/faqih/UU Copilot_v2/backend/langchain/lib/python3.8/site-packages (from tavily-python) (0.27.2)\n",
      "Requirement already satisfied: PyYAML>=5.3 in /home/faqih/UU Copilot_v2/backend/langchain/lib/python3.8/site-packages (from langchain) (6.0.2)\n",
      "Requirement already satisfied: tenacity!=8.4.0,<9.0.0,>=8.1.0 in /home/faqih/UU Copilot_v2/backend/langchain/lib/python3.8/site-packages (from langchain) (8.5.0)\n",
      "Requirement already satisfied: aiohttp<4.0.0,>=3.8.3 in /home/faqih/UU Copilot_v2/backend/langchain/lib/python3.8/site-packages (from langchain) (3.10.10)\n",
      "Requirement already satisfied: langsmith<0.2.0,>=0.1.17 in /home/faqih/UU Copilot_v2/backend/langchain/lib/python3.8/site-packages (from langchain) (0.1.134)\n",
      "Requirement already satisfied: pydantic<3,>=1 in /home/faqih/UU Copilot_v2/backend/langchain/lib/python3.8/site-packages (from langchain) (2.9.2)\n",
      "Requirement already satisfied: langchain-text-splitters<0.3.0,>=0.2.0 in /home/faqih/UU Copilot_v2/backend/langchain/lib/python3.8/site-packages (from langchain) (0.2.4)\n",
      "Requirement already satisfied: SQLAlchemy<3,>=1.4 in /home/faqih/UU Copilot_v2/backend/langchain/lib/python3.8/site-packages (from langchain) (2.0.35)\n",
      "Requirement already satisfied: numpy<2,>=1; python_version < \"3.12\" in /home/faqih/UU Copilot_v2/backend/langchain/lib/python3.8/site-packages (from langchain) (1.24.4)\n",
      "Requirement already satisfied: langchain-core<0.3.0,>=0.2.38 in /home/faqih/UU Copilot_v2/backend/langchain/lib/python3.8/site-packages (from langchain) (0.2.41)\n",
      "Requirement already satisfied: async-timeout<5.0.0,>=4.0.0; python_version < \"3.11\" in /home/faqih/UU Copilot_v2/backend/langchain/lib/python3.8/site-packages (from langchain) (4.0.3)\n",
      "Requirement already satisfied: sniffio in /home/faqih/UU Copilot_v2/backend/langchain/lib/python3.8/site-packages (from openai) (1.3.1)\n",
      "Requirement already satisfied: distro<2,>=1.7.0 in /home/faqih/UU Copilot_v2/backend/langchain/lib/python3.8/site-packages (from openai) (1.9.0)\n",
      "Requirement already satisfied: tqdm>4 in /home/faqih/UU Copilot_v2/backend/langchain/lib/python3.8/site-packages (from openai) (4.66.5)\n",
      "Requirement already satisfied: typing-extensions<5,>=4.11 in /home/faqih/UU Copilot_v2/backend/langchain/lib/python3.8/site-packages (from openai) (4.12.2)\n",
      "Requirement already satisfied: jiter<1,>=0.4.0 in /home/faqih/UU Copilot_v2/backend/langchain/lib/python3.8/site-packages (from openai) (0.6.1)\n",
      "Requirement already satisfied: anyio<5,>=3.5.0 in /home/faqih/UU Copilot_v2/backend/langchain/lib/python3.8/site-packages (from openai) (4.5.0)\n",
      "Requirement already satisfied: posthog>=2.4.0 in /home/faqih/UU Copilot_v2/backend/langchain/lib/python3.8/site-packages (from chromadb) (3.7.0)\n",
      "Requirement already satisfied: orjson>=3.9.12 in /home/faqih/UU Copilot_v2/backend/langchain/lib/python3.8/site-packages (from chromadb) (3.10.7)\n",
      "Requirement already satisfied: build>=1.0.3 in /home/faqih/UU Copilot_v2/backend/langchain/lib/python3.8/site-packages (from chromadb) (1.2.2.post1)\n",
      "Requirement already satisfied: opentelemetry-sdk>=1.2.0 in /home/faqih/UU Copilot_v2/backend/langchain/lib/python3.8/site-packages (from chromadb) (1.27.0)\n",
      "Requirement already satisfied: grpcio>=1.58.0 in /home/faqih/UU Copilot_v2/backend/langchain/lib/python3.8/site-packages (from chromadb) (1.66.2)\n",
      "Requirement already satisfied: importlib-resources in /home/faqih/UU Copilot_v2/backend/langchain/lib/python3.8/site-packages (from chromadb) (6.4.5)\n",
      "Requirement already satisfied: opentelemetry-api>=1.2.0 in /home/faqih/UU Copilot_v2/backend/langchain/lib/python3.8/site-packages (from chromadb) (1.27.0)\n",
      "Requirement already satisfied: fastapi>=0.95.2 in /home/faqih/UU Copilot_v2/backend/langchain/lib/python3.8/site-packages (from chromadb) (0.115.2)\n",
      "Requirement already satisfied: opentelemetry-instrumentation-fastapi>=0.41b0 in /home/faqih/UU Copilot_v2/backend/langchain/lib/python3.8/site-packages (from chromadb) (0.48b0)\n",
      "Requirement already satisfied: tokenizers>=0.13.2 in /home/faqih/UU Copilot_v2/backend/langchain/lib/python3.8/site-packages (from chromadb) (0.20.1)\n",
      "Requirement already satisfied: opentelemetry-exporter-otlp-proto-grpc>=1.2.0 in /home/faqih/UU Copilot_v2/backend/langchain/lib/python3.8/site-packages (from chromadb) (1.27.0)\n",
      "Requirement already satisfied: typer>=0.9.0 in /home/faqih/UU Copilot_v2/backend/langchain/lib/python3.8/site-packages (from chromadb) (0.12.5)\n",
      "Requirement already satisfied: chroma-hnswlib==0.7.6 in /home/faqih/UU Copilot_v2/backend/langchain/lib/python3.8/site-packages (from chromadb) (0.7.6)\n",
      "Requirement already satisfied: rich>=10.11.0 in /home/faqih/UU Copilot_v2/backend/langchain/lib/python3.8/site-packages (from chromadb) (13.9.2)\n",
      "Requirement already satisfied: graphlib-backport>=1.0.3; python_version < \"3.9\" in /home/faqih/UU Copilot_v2/backend/langchain/lib/python3.8/site-packages (from chromadb) (1.1.0)\n",
      "Requirement already satisfied: uvicorn[standard]>=0.18.3 in /home/faqih/UU Copilot_v2/backend/langchain/lib/python3.8/site-packages (from chromadb) (0.31.1)\n",
      "Requirement already satisfied: pypika>=0.48.9 in /home/faqih/UU Copilot_v2/backend/langchain/lib/python3.8/site-packages (from chromadb) (0.48.9)\n",
      "Requirement already satisfied: kubernetes>=28.1.0 in /home/faqih/UU Copilot_v2/backend/langchain/lib/python3.8/site-packages (from chromadb) (31.0.0)\n",
      "Requirement already satisfied: onnxruntime>=1.14.1 in /home/faqih/UU Copilot_v2/backend/langchain/lib/python3.8/site-packages (from chromadb) (1.16.3)\n",
      "Requirement already satisfied: overrides>=7.3.1 in /home/faqih/UU Copilot_v2/backend/langchain/lib/python3.8/site-packages (from chromadb) (7.7.0)\n",
      "Requirement already satisfied: mmh3>=4.0.1 in /home/faqih/UU Copilot_v2/backend/langchain/lib/python3.8/site-packages (from chromadb) (5.0.1)\n",
      "Requirement already satisfied: bcrypt>=4.0.1 in /home/faqih/UU Copilot_v2/backend/langchain/lib/python3.8/site-packages (from chromadb) (4.2.0)\n",
      "Requirement already satisfied: langchain-community<0.3.0,>=0.2.16 in /home/faqih/UU Copilot_v2/backend/langchain/lib/python3.8/site-packages (from langchain-experimental) (0.2.17)\n",
      "Requirement already satisfied: types-requests<3.0.0.0,>=2.31.0.2 in /home/faqih/UU Copilot_v2/backend/langchain/lib/python3.8/site-packages (from langchainhub) (2.32.0.20240914)\n",
      "Requirement already satisfied: packaging<25,>=23.2 in /home/faqih/UU Copilot_v2/backend/langchain/lib/python3.8/site-packages (from langchainhub) (24.1)\n",
      "Requirement already satisfied: idna<4,>=2.5 in /home/faqih/UU Copilot_v2/backend/langchain/lib/python3.8/site-packages (from requests->tavily-python) (3.10)\n",
      "Requirement already satisfied: certifi>=2017.4.17 in /home/faqih/UU Copilot_v2/backend/langchain/lib/python3.8/site-packages (from requests->tavily-python) (2024.8.30)\n",
      "Requirement already satisfied: charset-normalizer<4,>=2 in /home/faqih/UU Copilot_v2/backend/langchain/lib/python3.8/site-packages (from requests->tavily-python) (3.4.0)\n",
      "Requirement already satisfied: urllib3<3,>=1.21.1 in /home/faqih/UU Copilot_v2/backend/langchain/lib/python3.8/site-packages (from requests->tavily-python) (2.2.3)\n",
      "Requirement already satisfied: regex>=2022.1.18 in /home/faqih/UU Copilot_v2/backend/langchain/lib/python3.8/site-packages (from tiktoken>=0.5.1->tavily-python) (2024.9.11)\n",
      "Requirement already satisfied: httpcore==1.* in /home/faqih/UU Copilot_v2/backend/langchain/lib/python3.8/site-packages (from httpx->tavily-python) (1.0.6)\n",
      "Requirement already satisfied: aiosignal>=1.1.2 in /home/faqih/UU Copilot_v2/backend/langchain/lib/python3.8/site-packages (from aiohttp<4.0.0,>=3.8.3->langchain) (1.3.1)\n",
      "Requirement already satisfied: yarl<2.0,>=1.12.0 in /home/faqih/UU Copilot_v2/backend/langchain/lib/python3.8/site-packages (from aiohttp<4.0.0,>=3.8.3->langchain) (1.15.1)\n",
      "Requirement already satisfied: multidict<7.0,>=4.5 in /home/faqih/UU Copilot_v2/backend/langchain/lib/python3.8/site-packages (from aiohttp<4.0.0,>=3.8.3->langchain) (6.1.0)\n",
      "Requirement already satisfied: aiohappyeyeballs>=2.3.0 in /home/faqih/UU Copilot_v2/backend/langchain/lib/python3.8/site-packages (from aiohttp<4.0.0,>=3.8.3->langchain) (2.4.3)\n",
      "Requirement already satisfied: frozenlist>=1.1.1 in /home/faqih/UU Copilot_v2/backend/langchain/lib/python3.8/site-packages (from aiohttp<4.0.0,>=3.8.3->langchain) (1.4.1)\n",
      "Requirement already satisfied: attrs>=17.3.0 in /home/faqih/UU Copilot_v2/backend/langchain/lib/python3.8/site-packages (from aiohttp<4.0.0,>=3.8.3->langchain) (24.2.0)\n",
      "Requirement already satisfied: requests-toolbelt<2.0.0,>=1.0.0 in /home/faqih/UU Copilot_v2/backend/langchain/lib/python3.8/site-packages (from langsmith<0.2.0,>=0.1.17->langchain) (1.0.0)\n",
      "Requirement already satisfied: annotated-types>=0.6.0 in /home/faqih/UU Copilot_v2/backend/langchain/lib/python3.8/site-packages (from pydantic<3,>=1->langchain) (0.7.0)\n",
      "Requirement already satisfied: pydantic-core==2.23.4 in /home/faqih/UU Copilot_v2/backend/langchain/lib/python3.8/site-packages (from pydantic<3,>=1->langchain) (2.23.4)\n",
      "Requirement already satisfied: greenlet!=0.4.17; python_version < \"3.13\" and (platform_machine == \"aarch64\" or (platform_machine == \"ppc64le\" or (platform_machine == \"x86_64\" or (platform_machine == \"amd64\" or (platform_machine == \"AMD64\" or (platform_machine == \"win32\" or platform_machine == \"WIN32\")))))) in /home/faqih/UU Copilot_v2/backend/langchain/lib/python3.8/site-packages (from SQLAlchemy<3,>=1.4->langchain) (3.1.1)\n",
      "Requirement already satisfied: jsonpatch<2.0,>=1.33 in /home/faqih/UU Copilot_v2/backend/langchain/lib/python3.8/site-packages (from langchain-core<0.3.0,>=0.2.38->langchain) (1.33)\n",
      "Requirement already satisfied: exceptiongroup>=1.0.2; python_version < \"3.11\" in /home/faqih/UU Copilot_v2/backend/langchain/lib/python3.8/site-packages (from anyio<5,>=3.5.0->openai) (1.2.2)\n",
      "Requirement already satisfied: monotonic>=1.5 in /home/faqih/UU Copilot_v2/backend/langchain/lib/python3.8/site-packages (from posthog>=2.4.0->chromadb) (1.6)\n",
      "Requirement already satisfied: backoff>=1.10.0 in /home/faqih/UU Copilot_v2/backend/langchain/lib/python3.8/site-packages (from posthog>=2.4.0->chromadb) (2.2.1)\n",
      "Requirement already satisfied: six>=1.5 in /home/faqih/UU Copilot_v2/backend/langchain/lib/python3.8/site-packages (from posthog>=2.4.0->chromadb) (1.16.0)\n",
      "Requirement already satisfied: python-dateutil>2.1 in /home/faqih/UU Copilot_v2/backend/langchain/lib/python3.8/site-packages (from posthog>=2.4.0->chromadb) (2.9.0.post0)\n",
      "Requirement already satisfied: pyproject_hooks in /home/faqih/UU Copilot_v2/backend/langchain/lib/python3.8/site-packages (from build>=1.0.3->chromadb) (1.2.0)\n",
      "Requirement already satisfied: tomli>=1.1.0; python_version < \"3.11\" in /home/faqih/UU Copilot_v2/backend/langchain/lib/python3.8/site-packages (from build>=1.0.3->chromadb) (2.0.2)\n",
      "Requirement already satisfied: importlib-metadata>=4.6; python_full_version < \"3.10.2\" in /home/faqih/UU Copilot_v2/backend/langchain/lib/python3.8/site-packages (from build>=1.0.3->chromadb) (8.5.0)\n",
      "Requirement already satisfied: opentelemetry-semantic-conventions==0.48b0 in /home/faqih/UU Copilot_v2/backend/langchain/lib/python3.8/site-packages (from opentelemetry-sdk>=1.2.0->chromadb) (0.48b0)\n",
      "Requirement already satisfied: zipp>=3.1.0; python_version < \"3.10\" in /home/faqih/UU Copilot_v2/backend/langchain/lib/python3.8/site-packages (from importlib-resources->chromadb) (3.20.2)\n",
      "Requirement already satisfied: deprecated>=1.2.6 in /home/faqih/UU Copilot_v2/backend/langchain/lib/python3.8/site-packages (from opentelemetry-api>=1.2.0->chromadb) (1.2.14)\n",
      "Requirement already satisfied: starlette<0.41.0,>=0.37.2 in /home/faqih/UU Copilot_v2/backend/langchain/lib/python3.8/site-packages (from fastapi>=0.95.2->chromadb) (0.39.2)\n",
      "Requirement already satisfied: opentelemetry-instrumentation-asgi==0.48b0 in /home/faqih/UU Copilot_v2/backend/langchain/lib/python3.8/site-packages (from opentelemetry-instrumentation-fastapi>=0.41b0->chromadb) (0.48b0)\n",
      "Requirement already satisfied: opentelemetry-util-http==0.48b0 in /home/faqih/UU Copilot_v2/backend/langchain/lib/python3.8/site-packages (from opentelemetry-instrumentation-fastapi>=0.41b0->chromadb) (0.48b0)\n",
      "Requirement already satisfied: opentelemetry-instrumentation==0.48b0 in /home/faqih/UU Copilot_v2/backend/langchain/lib/python3.8/site-packages (from opentelemetry-instrumentation-fastapi>=0.41b0->chromadb) (0.48b0)\n",
      "Requirement already satisfied: huggingface-hub<1.0,>=0.16.4 in /home/faqih/UU Copilot_v2/backend/langchain/lib/python3.8/site-packages (from tokenizers>=0.13.2->chromadb) (0.25.2)\n",
      "Requirement already satisfied: opentelemetry-proto==1.27.0 in /home/faqih/UU Copilot_v2/backend/langchain/lib/python3.8/site-packages (from opentelemetry-exporter-otlp-proto-grpc>=1.2.0->chromadb) (1.27.0)\n",
      "Requirement already satisfied: googleapis-common-protos~=1.52 in /home/faqih/UU Copilot_v2/backend/langchain/lib/python3.8/site-packages (from opentelemetry-exporter-otlp-proto-grpc>=1.2.0->chromadb) (1.65.0)\n",
      "Requirement already satisfied: opentelemetry-exporter-otlp-proto-common==1.27.0 in /home/faqih/UU Copilot_v2/backend/langchain/lib/python3.8/site-packages (from opentelemetry-exporter-otlp-proto-grpc>=1.2.0->chromadb) (1.27.0)\n",
      "Requirement already satisfied: shellingham>=1.3.0 in /home/faqih/UU Copilot_v2/backend/langchain/lib/python3.8/site-packages (from typer>=0.9.0->chromadb) (1.5.4)\n",
      "Requirement already satisfied: click>=8.0.0 in /home/faqih/UU Copilot_v2/backend/langchain/lib/python3.8/site-packages (from typer>=0.9.0->chromadb) (8.1.7)\n",
      "Requirement already satisfied: markdown-it-py>=2.2.0 in /home/faqih/UU Copilot_v2/backend/langchain/lib/python3.8/site-packages (from rich>=10.11.0->chromadb) (3.0.0)\n",
      "Requirement already satisfied: pygments<3.0.0,>=2.13.0 in /home/faqih/UU Copilot_v2/backend/langchain/lib/python3.8/site-packages (from rich>=10.11.0->chromadb) (2.18.0)\n",
      "Requirement already satisfied: h11>=0.8 in /home/faqih/UU Copilot_v2/backend/langchain/lib/python3.8/site-packages (from uvicorn[standard]>=0.18.3->chromadb) (0.14.0)\n",
      "Requirement already satisfied: httptools>=0.5.0; extra == \"standard\" in /home/faqih/UU Copilot_v2/backend/langchain/lib/python3.8/site-packages (from uvicorn[standard]>=0.18.3->chromadb) (0.6.1)\n",
      "Requirement already satisfied: websockets>=10.4; extra == \"standard\" in /home/faqih/UU Copilot_v2/backend/langchain/lib/python3.8/site-packages (from uvicorn[standard]>=0.18.3->chromadb) (13.1)\n",
      "Requirement already satisfied: watchfiles>=0.13; extra == \"standard\" in /home/faqih/UU Copilot_v2/backend/langchain/lib/python3.8/site-packages (from uvicorn[standard]>=0.18.3->chromadb) (0.24.0)\n",
      "Requirement already satisfied: python-dotenv>=0.13; extra == \"standard\" in /home/faqih/UU Copilot_v2/backend/langchain/lib/python3.8/site-packages (from uvicorn[standard]>=0.18.3->chromadb) (1.0.1)\n",
      "Requirement already satisfied: uvloop!=0.15.0,!=0.15.1,>=0.14.0; (sys_platform != \"win32\" and (sys_platform != \"cygwin\" and platform_python_implementation != \"PyPy\")) and extra == \"standard\" in /home/faqih/UU Copilot_v2/backend/langchain/lib/python3.8/site-packages (from uvicorn[standard]>=0.18.3->chromadb) (0.20.0)\n",
      "Requirement already satisfied: durationpy>=0.7 in /home/faqih/UU Copilot_v2/backend/langchain/lib/python3.8/site-packages (from kubernetes>=28.1.0->chromadb) (0.9)\n",
      "Requirement already satisfied: requests-oauthlib in /home/faqih/UU Copilot_v2/backend/langchain/lib/python3.8/site-packages (from kubernetes>=28.1.0->chromadb) (2.0.0)\n",
      "Requirement already satisfied: google-auth>=1.0.1 in /home/faqih/UU Copilot_v2/backend/langchain/lib/python3.8/site-packages (from kubernetes>=28.1.0->chromadb) (2.35.0)\n",
      "Requirement already satisfied: oauthlib>=3.2.2 in /home/faqih/UU Copilot_v2/backend/langchain/lib/python3.8/site-packages (from kubernetes>=28.1.0->chromadb) (3.2.2)\n",
      "Requirement already satisfied: websocket-client!=0.40.0,!=0.41.*,!=0.42.*,>=0.32.0 in /home/faqih/UU Copilot_v2/backend/langchain/lib/python3.8/site-packages (from kubernetes>=28.1.0->chromadb) (1.8.0)\n",
      "Requirement already satisfied: flatbuffers in /home/faqih/UU Copilot_v2/backend/langchain/lib/python3.8/site-packages (from onnxruntime>=1.14.1->chromadb) (24.3.25)\n",
      "Requirement already satisfied: coloredlogs in /home/faqih/UU Copilot_v2/backend/langchain/lib/python3.8/site-packages (from onnxruntime>=1.14.1->chromadb) (15.0.1)\n",
      "Requirement already satisfied: sympy in /home/faqih/UU Copilot_v2/backend/langchain/lib/python3.8/site-packages (from onnxruntime>=1.14.1->chromadb) (1.13.3)\n",
      "Requirement already satisfied: protobuf in /home/faqih/UU Copilot_v2/backend/langchain/lib/python3.8/site-packages (from onnxruntime>=1.14.1->chromadb) (5.28.2)\n",
      "Requirement already satisfied: dataclasses-json<0.7,>=0.5.7 in /home/faqih/UU Copilot_v2/backend/langchain/lib/python3.8/site-packages (from langchain-community<0.3.0,>=0.2.16->langchain-experimental) (0.6.7)\n",
      "Requirement already satisfied: propcache>=0.2.0 in /home/faqih/UU Copilot_v2/backend/langchain/lib/python3.8/site-packages (from yarl<2.0,>=1.12.0->aiohttp<4.0.0,>=3.8.3->langchain) (0.2.0)\n",
      "Requirement already satisfied: jsonpointer>=1.9 in /home/faqih/UU Copilot_v2/backend/langchain/lib/python3.8/site-packages (from jsonpatch<2.0,>=1.33->langchain-core<0.3.0,>=0.2.38->langchain) (3.0.0)\n",
      "Requirement already satisfied: wrapt<2,>=1.10 in /home/faqih/UU Copilot_v2/backend/langchain/lib/python3.8/site-packages (from deprecated>=1.2.6->opentelemetry-api>=1.2.0->chromadb) (1.16.0)\n",
      "Requirement already satisfied: asgiref~=3.0 in /home/faqih/UU Copilot_v2/backend/langchain/lib/python3.8/site-packages (from opentelemetry-instrumentation-asgi==0.48b0->opentelemetry-instrumentation-fastapi>=0.41b0->chromadb) (3.8.1)\n",
      "Requirement already satisfied: setuptools>=16.0 in /home/faqih/UU Copilot_v2/backend/langchain/lib/python3.8/site-packages (from opentelemetry-instrumentation==0.48b0->opentelemetry-instrumentation-fastapi>=0.41b0->chromadb) (44.0.0)\n",
      "Requirement already satisfied: filelock in /home/faqih/UU Copilot_v2/backend/langchain/lib/python3.8/site-packages (from huggingface-hub<1.0,>=0.16.4->tokenizers>=0.13.2->chromadb) (3.16.1)\n",
      "Requirement already satisfied: fsspec>=2023.5.0 in /home/faqih/UU Copilot_v2/backend/langchain/lib/python3.8/site-packages (from huggingface-hub<1.0,>=0.16.4->tokenizers>=0.13.2->chromadb) (2024.9.0)\n",
      "Requirement already satisfied: mdurl~=0.1 in /home/faqih/UU Copilot_v2/backend/langchain/lib/python3.8/site-packages (from markdown-it-py>=2.2.0->rich>=10.11.0->chromadb) (0.1.2)\n",
      "Requirement already satisfied: pyasn1-modules>=0.2.1 in /home/faqih/UU Copilot_v2/backend/langchain/lib/python3.8/site-packages (from google-auth>=1.0.1->kubernetes>=28.1.0->chromadb) (0.4.1)\n",
      "Requirement already satisfied: rsa<5,>=3.1.4 in /home/faqih/UU Copilot_v2/backend/langchain/lib/python3.8/site-packages (from google-auth>=1.0.1->kubernetes>=28.1.0->chromadb) (4.9)\n",
      "Requirement already satisfied: cachetools<6.0,>=2.0.0 in /home/faqih/UU Copilot_v2/backend/langchain/lib/python3.8/site-packages (from google-auth>=1.0.1->kubernetes>=28.1.0->chromadb) (5.5.0)\n",
      "Requirement already satisfied: humanfriendly>=9.1 in /home/faqih/UU Copilot_v2/backend/langchain/lib/python3.8/site-packages (from coloredlogs->onnxruntime>=1.14.1->chromadb) (10.0)\n",
      "Requirement already satisfied: mpmath<1.4,>=1.1.0 in /home/faqih/UU Copilot_v2/backend/langchain/lib/python3.8/site-packages (from sympy->onnxruntime>=1.14.1->chromadb) (1.3.0)\n",
      "Requirement already satisfied: marshmallow<4.0.0,>=3.18.0 in /home/faqih/UU Copilot_v2/backend/langchain/lib/python3.8/site-packages (from dataclasses-json<0.7,>=0.5.7->langchain-community<0.3.0,>=0.2.16->langchain-experimental) (3.22.0)\n",
      "Requirement already satisfied: typing-inspect<1,>=0.4.0 in /home/faqih/UU Copilot_v2/backend/langchain/lib/python3.8/site-packages (from dataclasses-json<0.7,>=0.5.7->langchain-community<0.3.0,>=0.2.16->langchain-experimental) (0.9.0)\n",
      "Requirement already satisfied: pyasn1<0.7.0,>=0.4.6 in /home/faqih/UU Copilot_v2/backend/langchain/lib/python3.8/site-packages (from pyasn1-modules>=0.2.1->google-auth>=1.0.1->kubernetes>=28.1.0->chromadb) (0.6.1)\n",
      "Requirement already satisfied: mypy-extensions>=0.3.0 in /home/faqih/UU Copilot_v2/backend/langchain/lib/python3.8/site-packages (from typing-inspect<1,>=0.4.0->dataclasses-json<0.7,>=0.5.7->langchain-community<0.3.0,>=0.2.16->langchain-experimental) (1.0.0)\n"
     ]
    }
   ],
   "source": [
    "!pip install tavily-python langchain openai chromadb langchain-experimental pypdf langchain-openai langchainhub langchain-chroma"
   ]
  },
  {
   "cell_type": "code",
   "execution_count": 61,
   "metadata": {},
   "outputs": [
    {
     "name": "stdout",
     "output_type": "stream",
     "text": [
      "zsh:1: bad assignment\n",
      "zsh:1: bad assignment\n"
     ]
    }
   ],
   "source": [
    "!export OPENAI_API_KEY = ''\n",
    "!export TAVILY_API_KEY = \"\""
   ]
  },
  {
   "cell_type": "markdown",
   "metadata": {},
   "source": [
    "# Basic Usage"
   ]
  },
  {
   "cell_type": "code",
   "execution_count": 5,
   "metadata": {},
   "outputs": [],
   "source": [
    "from langchain_openai import ChatOpenAI"
   ]
  },
  {
   "cell_type": "code",
   "execution_count": 6,
   "metadata": {},
   "outputs": [],
   "source": [
    "llm = ChatOpenAI(model_name=\"gpt-4o-mini-2024-07-18\", temperature=0)"
   ]
  },
  {
   "cell_type": "code",
   "execution_count": 8,
   "metadata": {},
   "outputs": [],
   "source": [
    "resp = llm.invoke(\"What is the meaning of life?\")"
   ]
  },
  {
   "cell_type": "markdown",
   "metadata": {},
   "source": [
    "# LCEL"
   ]
  },
  {
   "cell_type": "markdown",
   "metadata": {},
   "source": [
    "## Single Chain"
   ]
  },
  {
   "cell_type": "code",
   "execution_count": 28,
   "metadata": {},
   "outputs": [],
   "source": [
    "from langchain_core.output_parsers import StrOutputParser\n",
    "from langchain_core.prompts import ChatPromptTemplate"
   ]
  },
  {
   "cell_type": "code",
   "execution_count": 29,
   "metadata": {},
   "outputs": [],
   "source": [
    "prompt = ChatPromptTemplate.from_template(\"\"\" Anda adalah seorang guru matematika yang dapat menjelaskan suatu jawaban dari pertanyaan dengan\n",
    "                                          baik kepada anak sekolah dasar. Jawablah dengan tepat dan penyampaian yang sesuai untuk\n",
    "                                          anak sekolah dasar {pertanyaan}\"\"\")\n",
    "\n",
    "chain = prompt | llm | StrOutputParser()"
   ]
  },
  {
   "cell_type": "code",
   "execution_count": 27,
   "metadata": {},
   "outputs": [
    {
     "name": "stdout",
     "output_type": "stream",
     "text": [
      "Baiklah, mari kita hitung bersama-sama!\n",
      "\n",
      "Kita punya soal: \\(5 \\times 10 \\div 2 + 7\\).\n",
      "\n",
      "Langkah pertama adalah melakukan perkalian dan pembagian dari kiri ke kanan. Jadi, kita mulai dengan \\(5 \\times 10\\):\n",
      "\n",
      "\\[\n",
      "5 \\times 10 = 50\n",
      "\\]\n",
      "\n",
      "Sekarang, kita ambil hasilnya dan bagi dengan 2:\n",
      "\n",
      "\\[\n",
      "50 \\div 2 = 25\n",
      "\\]\n",
      "\n",
      "Sekarang kita sudah mendapatkan hasil sementara, yaitu 25. Selanjutnya, kita tambahkan 7:\n",
      "\n",
      "\\[\n",
      "25 + 7 = 32\n",
      "\\]\n",
      "\n",
      "Jadi, jawaban dari \\(5 \\times 10 \\div 2 + 7\\) adalah **32**. \n",
      "\n",
      "Bagaimana, mudah kan? Jika ada yang ingin ditanyakan lagi, silakan!\n"
     ]
    }
   ],
   "source": [
    "resp = chain.invoke({\"pertanyaan\": \"Berapa jawaban dari 5*10/2 + 7\"})\n",
    "print(resp)"
   ]
  },
  {
   "cell_type": "markdown",
   "metadata": {},
   "source": [
    "## Composed Chain"
   ]
  },
  {
   "cell_type": "code",
   "execution_count": 30,
   "metadata": {},
   "outputs": [],
   "source": [
    "# Digunakan apabila ingin menggabungkan beberapa chain menjadi satu\n",
    "# misal di sini saya ingin membuat sebuah flow di mana\n",
    "# chain 1 : akan menggenerate list nama orang dan list aktivitas\n",
    "# chain 2 : akan mengatur orang mana yang akan mengerjakan aktivitas yang mana"
   ]
  },
  {
   "cell_type": "code",
   "execution_count": 32,
   "metadata": {},
   "outputs": [],
   "source": [
    "prompt_1 = ChatPromptTemplate.from_template(\"\"\" buatkan 10 nama orang dengan nama yang khas indonesia, kemudian berikan 10 kegiatan yang dapat dilakukan \n",
    "                                          pada topik berikut {topik}\"\"\")\n",
    "\n",
    "chain_1 = prompt_1 | llm | StrOutputParser()"
   ]
  },
  {
   "cell_type": "code",
   "execution_count": 33,
   "metadata": {},
   "outputs": [],
   "source": [
    "prompt_2 = ChatPromptTemplate.from_template(\"\"\" Berdasarkan nama-nama orang tersebut aturlah siapa yang akan melakukan aktivitas apa pada topik berikut {list}\"\"\")\n",
    "\n",
    "chain_2 = {\"list\":chain_1} | prompt_2 | llm | StrOutputParser()"
   ]
  },
  {
   "cell_type": "code",
   "execution_count": 34,
   "metadata": {},
   "outputs": [
    {
     "data": {
      "text/plain": [
       "'Berikut adalah pembagian aktivitas olahraga berdasarkan nama-nama orang yang telah disebutkan:\\n\\n1. **Senam Pagi Bersama**: **Dewi Anggraini** - Sebagai sosok yang energik dan peduli kesehatan, Dewi akan memimpin sesi senam pagi untuk meningkatkan kebugaran dan kebersamaan.\\n\\n2. **Turnamen Sepak Bola**: **Budi Santoso** - Dengan semangat tim yang tinggi, Budi akan mengorganisir turnamen sepak bola antar RT atau antar sekolah.\\n\\n3. **Lari Santai**: **Rizky Ramadhan** - Rizky yang aktif dan suka berolahraga akan memimpin acara lari santai di sekitar lingkungan.\\n\\n4. **Yoga di Alam Terbuka**: **Ayu Lestari** - Ayu yang memiliki ketertarikan pada kesehatan mental dan relaksasi akan mengadakan kelas yoga di taman atau pantai.\\n\\n5. **Bersepeda Bersama**: **Eko Susanto** - Eko yang suka berpetualang akan mengorganisir kegiatan bersepeda keliling kota atau desa.\\n\\n6. **Pelatihan Atletik**: **Andi Wijaya** - Andi yang memiliki pengalaman dalam olahraga akan mengadakan pelatihan atletik untuk anak-anak dan remaja.\\n\\n7. **Kompetisi Bulutangkis**: **Joko Prabowo** - Joko yang memiliki bakat dalam bulutangkis akan mengorganisir kompetisi bulutangkis di tingkat lokal.\\n\\n8. **Kegiatan Panjat Tebing**: **Fitriani Putri** - Fitriani yang berani dan suka tantangan akan memimpin kegiatan panjat tebing di tempat yang aman.\\n\\n9. **Zumba di Taman**: **Rina Sari** - Rina yang ceria dan suka bergerak akan mengadakan kelas zumba di taman untuk mengajak masyarakat bersenang-senang.\\n\\n10. **Festival Olahraga Tradisional**: **Siti Nurhaliza** - Siti yang mencintai budaya dan tradisi akan mengorganisir festival yang menampilkan berbagai olahraga tradisional Indonesia.\\n\\nPembagian ini diharapkan dapat memaksimalkan potensi masing-masing individu dalam kegiatan olahraga yang akan dilakukan.'"
      ]
     },
     "execution_count": 34,
     "metadata": {},
     "output_type": "execute_result"
    }
   ],
   "source": [
    "chain_2.invoke({\"topik\": \"olahraga\"})"
   ]
  },
  {
   "cell_type": "code",
   "execution_count": null,
   "metadata": {},
   "outputs": [],
   "source": []
  },
  {
   "cell_type": "markdown",
   "metadata": {},
   "source": [
    "# Output Parser"
   ]
  },
  {
   "cell_type": "markdown",
   "metadata": {},
   "source": [
    "## JsonOutputParser"
   ]
  },
  {
   "cell_type": "code",
   "execution_count": 35,
   "metadata": {},
   "outputs": [],
   "source": [
    "from langchain_core.output_parsers import JsonOutputParser\n",
    "from langchain_core.prompts import PromptTemplate\n",
    "from langchain_core.pydantic_v1 import BaseModel, Field\n",
    "from langchain_openai import ChatOpenAI"
   ]
  },
  {
   "cell_type": "code",
   "execution_count": 39,
   "metadata": {},
   "outputs": [],
   "source": [
    "# Misalkan kita memiliki biografi seorang tokoh yang terkenal, kemudian dari narasi biografi tersebut kita ingin mendapatkan informasi mengenai Nama,\n",
    "# Tanggal Lahir, Tempat Lahir, dan Pekerjaan dari tokoh tersebut serta pengalamanya. maka kita dapat melakukannya seperti berikut\n",
    "\n",
    "biography = \"\"\"\n",
    "LeBron James adalah seorang pemain bola basket profesional asal Amerika Serikat yang dianggap sebagai salah satu pemain terbaik dalam sejarah NBA. Ia lahir pada 30 Desember 1984, di Akron, Ohio. Sejak kecil, LeBron sudah menunjukkan bakat luar biasa dalam olahraga basket, yang membuatnya dikenal sebagai \"anak ajaib\" di dunia olahraga. Ia bersekolah di St. Vincent-St. Mary High School, di mana ia memimpin tim basket sekolah tersebut meraih kejuaraan negara bagian, sekaligus mendapatkan perhatian nasional sebagai pemain muda yang menjanjikan.\n",
    "\n",
    "Pada tahun 2003, LeBron James memasuki NBA sebagai pilihan pertama dalam draft, direkrut oleh Cleveland Cavaliers. Kariernya langsung bersinar, dan ia dinobatkan sebagai NBA Rookie of the Year pada musim pertamanya. Ia membawa Cavaliers ke beberapa penampilan playoff dan mencapai Final NBA pada tahun 2007, meskipun mereka kalah dari San Antonio Spurs.\n",
    "\n",
    "Pada 2010, LeBron membuat keputusan kontroversial dengan bergabung ke Miami Heat, di mana ia memenangkan dua gelar juara NBA pada tahun 2012 dan 2013. Setelah empat musim bersama Heat, ia kembali ke Cleveland Cavaliers pada 2014, dan pada 2016, LeBron berhasil membawa Cavaliers meraih gelar juara NBA pertama dalam sejarah klub, sekaligus memimpin comeback epik dari ketinggalan 1-3 melawan Golden State Warriors di Final NBA.\"\"\"\n",
    "\n",
    "\n",
    "# Define your desired data structure.\n",
    "class Person(BaseModel):\n",
    "    name: str = Field(description=\"Nama orang yang dimaksud\")\n",
    "    tempat_tanggal_lahir: str = Field(description=\"Tempat dan tanggal lahir orang tersebut\")\n",
    "    pekerjaan: str = Field(description=\"Pekerjaan dari orang tersebut\")\n",
    "    pengalaman: str = Field(description=\"Pengalaman dari orang tersebut\")"
   ]
  },
  {
   "cell_type": "code",
   "execution_count": 41,
   "metadata": {},
   "outputs": [
    {
     "data": {
      "text/plain": [
       "{'name': 'LeBron James',\n",
       " 'tempat_tanggal_lahir': 'Akron, Ohio, 30 Desember 1984',\n",
       " 'pekerjaan': 'Pemain Bola Basket Profesional',\n",
       " 'pengalaman': 'Memasuki NBA pada tahun 2003 sebagai pilihan pertama dalam draft, dinobatkan sebagai NBA Rookie of the Year, memenangkan dua gelar juara NBA bersama Miami Heat pada tahun 2012 dan 2013, serta membawa Cleveland Cavaliers meraih gelar juara NBA pertama dalam sejarah klub pada tahun 2016.'}"
      ]
     },
     "execution_count": 41,
     "metadata": {},
     "output_type": "execute_result"
    }
   ],
   "source": [
    "\n",
    "# Set up a parser + inject instructions into the prompt template.\n",
    "parser = JsonOutputParser(pydantic_object=Person)\n",
    "\n",
    "prompt = PromptTemplate(\n",
    "    template=\"Buatkan berdasarkan biografi berikut.\\n{biography}\\n{format_instructions}\\n\",\n",
    "    input_variables=[\"biography\"],\n",
    "    partial_variables={\"format_instructions\": parser.get_format_instructions()},\n",
    ")\n",
    "\n",
    "chain = prompt | llm | parser\n",
    "\n",
    "chain.invoke({\"biography\": biography})"
   ]
  },
  {
   "cell_type": "markdown",
   "metadata": {},
   "source": [
    "# Memory"
   ]
  },
  {
   "cell_type": "code",
   "execution_count": 46,
   "metadata": {},
   "outputs": [],
   "source": [
    "from operator import itemgetter\n",
    "from typing import List\n",
    "\n",
    "from langchain_openai.chat_models import ChatOpenAI\n",
    "\n",
    "from langchain_core.chat_history import BaseChatMessageHistory\n",
    "from langchain_core.documents import Document\n",
    "from langchain_core.messages import BaseMessage, AIMessage\n",
    "from langchain_core.prompts import ChatPromptTemplate, MessagesPlaceholder\n",
    "from pydantic import BaseModel, Field\n",
    "from langchain_core.runnables import (\n",
    "    RunnableLambda,\n",
    "    ConfigurableFieldSpec,\n",
    "    RunnablePassthrough,\n",
    ")\n",
    "from langchain_core.runnables.history import RunnableWithMessageHistory\n",
    "\n",
    "from typing import Optional\n",
    "\n",
    "from langchain_community.chat_models import ChatAnthropic\n",
    "from langchain_core.prompts import ChatPromptTemplate, MessagesPlaceholder\n",
    "from langchain_core.runnables.history import RunnableWithMessageHistory"
   ]
  },
  {
   "cell_type": "code",
   "execution_count": 54,
   "metadata": {},
   "outputs": [],
   "source": [
    "class InMemoryHistory(BaseChatMessageHistory, BaseModel):\n",
    "    \"\"\"In memory implementation of chat message history.\"\"\"\n",
    "\n",
    "    messages: List[BaseMessage] = Field(default_factory=list)\n",
    "\n",
    "    def add_messages(self, messages: List[BaseMessage]) -> None:\n",
    "        \"\"\"Add a list of messages to the store\"\"\"\n",
    "        self.messages.extend(messages)\n",
    "\n",
    "    def clear(self) -> None:\n",
    "        self.messages = []\n",
    "\n",
    "# Here we use a global variable to store the chat message history.\n",
    "# This will make it easier to inspect it to see the underlying results.\n",
    "store = {}\n",
    "\n",
    "def get_by_session_id(session_id: str) -> BaseChatMessageHistory:\n",
    "    if session_id not in store:\n",
    "        store[session_id] = InMemoryHistory()\n",
    "    return store[session_id]"
   ]
  },
  {
   "cell_type": "code",
   "execution_count": 57,
   "metadata": {},
   "outputs": [],
   "source": [
    "prompt = ChatPromptTemplate.from_messages([\n",
    "    (\"system\", \"you are asistant for a physics teacher\"),\n",
    "    MessagesPlaceholder(variable_name=\"history\"),\n",
    "    (\"human\", \"{question}\"),\n",
    "])\n",
    "chain = prompt | llm | StrOutputParser()"
   ]
  },
  {
   "cell_type": "code",
   "execution_count": 58,
   "metadata": {},
   "outputs": [
    {
     "data": {
      "text/plain": [
       "\"Gravity is a fundamental force of nature that attracts two bodies with mass toward each other. It is responsible for a variety of phenomena, including the falling of objects to the ground, the orbits of planets around stars, and the formation of galaxies.\\n\\nIn classical physics, gravity is described by Isaac Newton's law of universal gravitation, which states that every point mass attracts every other point mass with a force that is directly proportional to the product of their masses and inversely proportional to the square of the distance between their centers. The formula for this force \\\\( F \\\\) is given by:\\n\\n\\\\[\\nF = G \\\\frac{m_1 m_2}{r^2}\\n\\\\]\\n\\nwhere:\\n- \\\\( F \\\\) is the gravitational force,\\n- \\\\( G \\\\) is the gravitational constant (\\\\(6.674 \\\\times 10^{-11} \\\\, \\\\text{N(m/kg)}^2\\\\)),\\n- \\\\( m_1 \\\\) and \\\\( m_2 \\\\) are the masses of the two objects,\\n- \\\\( r \\\\) is the distance between the centers of the two masses.\\n\\nIn modern physics, gravity is described by Albert Einstein's general theory of relativity, which posits that gravity is not just a force but a curvature of spacetime caused by mass. According to this theory, massive objects like planets and stars warp the fabric of spacetime around them, and this curvature affects the motion of other objects, causing them to follow curved paths.\\n\\nOverall, gravity is a key force that governs the structure and behavior of the universe on both large and small scales.\""
      ]
     },
     "execution_count": 58,
     "metadata": {},
     "output_type": "execute_result"
    }
   ],
   "source": [
    "chain_with_history = RunnableWithMessageHistory(\n",
    "    chain,\n",
    "    get_by_session_id,\n",
    "    input_messages_key=\"question\",\n",
    "    history_messages_key=\"history\",\n",
    ")\n",
    "\n",
    "chain_with_history.invoke(\n",
    "    {\"question\": \"What is gravity?\"},\n",
    "    config={\"configurable\": {\"session_id\": \"user_abdul\"}}\n",
    ")"
   ]
  },
  {
   "cell_type": "markdown",
   "metadata": {},
   "source": [
    "# Use Google Search Retriever"
   ]
  },
  {
   "cell_type": "code",
   "execution_count": 110,
   "metadata": {},
   "outputs": [],
   "source": [
    "from langchain_community.tools import TavilySearchResults\n",
    "\n",
    "retriever = TavilySearchResults(\n",
    "    max_results=5,\n",
    "    search_depth=\"advanced\",\n",
    "    include_answer=True,\n",
    "    include_raw_content=True,\n",
    "    # include_images=True,\n",
    ")\n",
    "# tool_resp = tool.invoke({\"query\": \"Apa yang terjadi pada wasit bahrain pada pertandingan AFC indonesia vs bahrain\"})\n",
    "# tool_resp[0][\"content\"]"
   ]
  },
  {
   "cell_type": "code",
   "execution_count": 96,
   "metadata": {},
   "outputs": [],
   "source": [
    "# alternatif untuk tavily search\n",
    "# from langchain_community.retrievers import TavilySearchAPIRetriever\n",
    "# retriever = TavilySearchAPIRetriever(\n",
    "#     k=3,\n",
    "#     search_depth=\"advanced\")"
   ]
  },
  {
   "cell_type": "code",
   "execution_count": 111,
   "metadata": {},
   "outputs": [
    {
     "data": {
      "text/plain": [
       "'Hal kontroversial yang dilakukan wasit Ahmed Al Kaf pada pertandingan Bahrain vs Indonesia adalah membiarkan tambahan waktu berlangsung melebihi dari yang diumumkan, yaitu dari 6 menit menjadi 9 menit. Keputusan ini memungkinkan Tim Bahrain mencetak gol penyama kedudukan pada menit 90+9, yang berkontribusi pada hasil imbang 2-2.'"
      ]
     },
     "execution_count": 111,
     "metadata": {},
     "output_type": "execute_result"
    }
   ],
   "source": [
    "prompt = ChatPromptTemplate.from_template(\n",
    "    \"\"\"Answer the question based only on the context provided.\n",
    "\n",
    "Context: {context}\n",
    "\n",
    "Question: {question}\"\"\"\n",
    ")\n",
    "\n",
    "def format_docs(docs):\n",
    "    return \"\\n\\n\".join(doc[\"content\"] for doc in docs)\n",
    "\n",
    "\n",
    "chain = (\n",
    "    {\"context\": retriever | format_docs, \"question\": RunnablePassthrough()}\n",
    "    | prompt\n",
    "    | llm\n",
    "    | StrOutputParser()\n",
    ")\n",
    "\n",
    "query = \"Apa hal kontroversial yang dilakukan wasit pada pertandingan bahrain vs indonesia?\"\n",
    "chain.invoke(query)"
   ]
  }
 ],
 "metadata": {
  "kernelspec": {
   "display_name": "langchain",
   "language": "python",
   "name": "python3"
  },
  "language_info": {
   "codemirror_mode": {
    "name": "ipython",
    "version": 3
   },
   "file_extension": ".py",
   "mimetype": "text/x-python",
   "name": "python",
   "nbconvert_exporter": "python",
   "pygments_lexer": "ipython3",
   "version": "3.8.10"
  }
 },
 "nbformat": 4,
 "nbformat_minor": 2
}
