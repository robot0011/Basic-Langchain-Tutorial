{
 "cells": [
  {
   "cell_type": "code",
   "execution_count": 39,
   "metadata": {},
   "outputs": [
    {
     "name": "stdout",
     "output_type": "stream",
     "text": [
      "Requirement already satisfied: beautifulsoup4 in /home/faqih/micromamba/envs/langchain/lib/python3.12/site-packages (4.12.3)\n",
      "Requirement already satisfied: soupsieve>1.2 in /home/faqih/micromamba/envs/langchain/lib/python3.12/site-packages (from beautifulsoup4) (2.6)\n"
     ]
    }
   ],
   "source": [
    "!pip install beautifulsoup4 lark"
   ]
  },
  {
   "cell_type": "code",
   "execution_count": 1,
   "metadata": {},
   "outputs": [],
   "source": [
    "from dotenv import load_dotenv"
   ]
  },
  {
   "cell_type": "code",
   "execution_count": 2,
   "metadata": {},
   "outputs": [
    {
     "data": {
      "text/plain": [
       "True"
      ]
     },
     "execution_count": 2,
     "metadata": {},
     "output_type": "execute_result"
    }
   ],
   "source": [
    "load_dotenv()"
   ]
  },
  {
   "cell_type": "markdown",
   "metadata": {},
   "source": [
    "# Basic RAG using LCEL"
   ]
  },
  {
   "cell_type": "code",
   "execution_count": 3,
   "metadata": {},
   "outputs": [
    {
     "name": "stderr",
     "output_type": "stream",
     "text": [
      "USER_AGENT environment variable not set, consider setting it to identify your requests.\n"
     ]
    }
   ],
   "source": [
    "from langchain_openai import ChatOpenAI\n",
    "from langchain_community.document_loaders import PyPDFLoader\n",
    "import bs4\n",
    "from langchain import hub\n",
    "from langchain_chroma import Chroma\n",
    "from langchain_community.document_loaders import WebBaseLoader\n",
    "from langchain_core.output_parsers import StrOutputParser\n",
    "from langchain_core.runnables import RunnablePassthrough\n",
    "from langchain_openai import OpenAIEmbeddings\n",
    "from langchain_text_splitters import RecursiveCharacterTextSplitter\n",
    "from langchain.chains.query_constructor.base import AttributeInfo\n",
    "from langchain.retrievers.self_query.base import SelfQueryRetriever\n",
    "from langchain_openai import ChatOpenAI\n",
    "from langchain_core.prompts import ChatPromptTemplate"
   ]
  },
  {
   "cell_type": "code",
   "execution_count": 4,
   "metadata": {},
   "outputs": [],
   "source": [
    "llm = ChatOpenAI(model_name=\"gpt-4o-mini-2024-07-18\", temperature=0)"
   ]
  },
  {
   "cell_type": "markdown",
   "metadata": {},
   "source": [
    "## From PDF"
   ]
  },
  {
   "cell_type": "code",
   "execution_count": 5,
   "metadata": {},
   "outputs": [],
   "source": [
    "# PDF path\n",
    "file_path = (\n",
    "    \"PDF/The_Art_Of_War.pdf\"\n",
    ")\n",
    "loader = PyPDFLoader(file_path)\n",
    "pages = []\n",
    "async for page in loader.alazy_load():\n",
    "    pages.append(page)"
   ]
  },
  {
   "cell_type": "code",
   "execution_count": 6,
   "metadata": {},
   "outputs": [],
   "source": [
    "text_splitter = RecursiveCharacterTextSplitter(chunk_size=1000, chunk_overlap=200)\n",
    "splits = text_splitter.split_documents(pages)\n",
    "vectorstore = Chroma.from_documents(documents=splits, embedding=OpenAIEmbeddings())\n",
    "\n",
    "# Retrieve and generate using the relevant snippets of the blog.\n",
    "retriever = vectorstore.as_retriever(search_type=\"similarity_score_threshold\", search_kwargs={\"score_threshold\": 0.5,\"k\":3})\n",
    "prompt = hub.pull(\"rlm/rag-prompt\")\n",
    "def format_docs(docs):\n",
    "    return \"\\n\\n\".join(doc.page_content for doc in docs)\n",
    "rag_chain = (\n",
    "    {\"context\": retriever | format_docs, \"question\": RunnablePassthrough()}\n",
    "    | prompt\n",
    "    | llm\n",
    "    | StrOutputParser()\n",
    ")"
   ]
  },
  {
   "cell_type": "code",
   "execution_count": 8,
   "metadata": {},
   "outputs": [
    {
     "data": {
      "text/plain": [
       "'The five constant factors are: (1) The Moral Law; (2) Heaven; (3) Earth; (4) The Commander; (5) Method and discipline. These factors are essential for determining the conditions in the field during warfare.'"
      ]
     },
     "execution_count": 8,
     "metadata": {},
     "output_type": "execute_result"
    }
   ],
   "source": [
    "rag_chain.invoke(\"what is the 5 constant factors\")"
   ]
  },
  {
   "cell_type": "code",
   "execution_count": 21,
   "metadata": {},
   "outputs": [],
   "source": [
    "resp = retriever.invoke(\"Tell me about Weak Points and Strong\")"
   ]
  },
  {
   "cell_type": "markdown",
   "metadata": {},
   "source": [
    "## From Web"
   ]
  },
  {
   "cell_type": "markdown",
   "metadata": {},
   "source": [
    "# Self Querying"
   ]
  },
  {
   "cell_type": "markdown",
   "metadata": {},
   "source": [
    "Jika ingin melakukan querying tidak hanya pada konteks dari dokumen yang diberikan, namun juga dari metadata dari dokumen tersebut"
   ]
  },
  {
   "cell_type": "code",
   "execution_count": 10,
   "metadata": {},
   "outputs": [],
   "source": [
    "metadata_field_info = [\n",
    "    AttributeInfo(\n",
    "        name=\"source\",\n",
    "        description=\"Path to the source file\",\n",
    "        type=\"string\",\n",
    "    ),\n",
    "    AttributeInfo(\n",
    "        name=\"page\",\n",
    "        description=\"The page number of the document\",\n",
    "        type=\"integer\",\n",
    "    )\n",
    "]\n",
    "document_content_description = \"Content of the book\""
   ]
  },
  {
   "cell_type": "code",
   "execution_count": 40,
   "metadata": {},
   "outputs": [],
   "source": [
    "retriever = SelfQueryRetriever.from_llm(\n",
    "    llm,\n",
    "    vectorstore,\n",
    "    document_content_description,\n",
    "    metadata_field_info,\n",
    ")"
   ]
  },
  {
   "cell_type": "code",
   "execution_count": 41,
   "metadata": {},
   "outputs": [
    {
     "data": {
      "text/plain": [
       "[Document(metadata={'page': 26, 'source': 'PDF/The_Art_Of_War.pdf'}, page_content='34. The five elements (water, fire, wood, metal, earth)\\nare not always equally predominant; the four seasonsmake way for each other in turn. There are short daysand long; the moon has its periods of waning and wax-ing.\\n24\\n/G53/G75/G6E/G20/G54/G7A/G75/G20/G6F/G6E/G20/G74/G68/G65/G20/G41/G72/G74/G20/G6F/G66/G20/G57/G61/G72'),\n",
       " Document(metadata={'page': 44, 'source': 'PDF/The_Art_Of_War.pdf'}, page_content='13. These six are the principles connected with Earth.\\nThe general who has attained a responsible post mustbe careful to study them.\\n14. Now an army is exposed to six several calamities,\\nnot arising from natural causes, but from faults forwhich the general is responsible. These are: \\n(1) Flight;(2) insubordination; (3) collapse; (4) ruin; (5) disorganization; (6) rout.\\n15. Other conditions being equal, if one force is hurled\\nagainst another ten times its size, the result will be theflight of the former.\\n16. When the common soldiers are too strong and their\\nofficers too weak, the result is insubordination. Whenthe officers are too strong and the common soldiers tooweak, the result is collapse.\\n17. When the higher officers are angry and insubordi-\\nnate, and on meeting the enemy give battle on theirown account from a feeling of resentment, before thecommander-in-chief can tell whether or no he is in aposition to fight, the result is ruin.'),\n",
       " Document(metadata={'page': 18, 'source': 'PDF/The_Art_Of_War.pdf'}, page_content='7. There are not more than five musical notes, yet the\\ncombinations of these five give rise to more melodiesthan can ever be heard.\\n8. There are not more than five primary colors (blue,\\nyellow, red, white, and black), yet in combination theyproduce more hues than can ever been seen.\\n9. There are not more than five cardinal tastes (sour,\\nacrid, salt, sweet, bitter), yet combinations of themyield more flavors than can ever be tasted.\\n10. In battle, there are not more than two methods of\\nattack—the direct and the indirect; yet these two incombination give rise to an endless series of maneu-vers.\\n11. The direct and the indirect lead on to each other in\\nturn. It is like moving in a circle—you never come toan end. Who can exhaust the possibilities of their com-bination?\\n12. The onset of troops is like the rush of a torrent\\nwhich will even roll stones along in its course.\\n13. The quality of decision is like the well-timed swoop\\nof a falcon which enables it to strike and destroy its vic-tim.'),\n",
       " Document(metadata={'page': 3, 'source': 'PDF/The_Art_Of_War.pdf'}, page_content='I\\n/G4C/G61/G79/G69/G6E/G67/G20/G50/G6C/G61/G6E/G73\\n1.Sun Tzu said : The art of war is of vital importance to\\nthe State.\\n2. It is a matter of life and death, a road either to safe-\\nty or to ruin. Hence it is a subject of inquiry which canon no account be neglected.\\n3. The art of war, then, is governed by five\\nconstantfactors, to be taken into account in one’s delib-erations, when seeking to determine the conditionsobtaining in the field.\\n4. These are: \\n(1) The Moral Law; (2) Heaven; (3) Earth; (4) The Commander; (5) Method and discipline.\\n5,6. The Moral Law causes the people to be in com-\\nplete accord with their ruler, so that they will followhim regardless of their lives, undismayed by any dan-ger.\\n7. Heaven signifies night and day, cold and heat, times\\nand seasons.\\n1\\n/G53/G75/G6E/G20/G54/G7A/G75/G20/G6F/G6E/G20/G74/G68/G65/G20/G41/G72/G74/G20/G6F/G66/G20/G57/G61/G72')]"
      ]
     },
     "execution_count": 41,
     "metadata": {},
     "output_type": "execute_result"
    }
   ],
   "source": [
    "retriever.invoke(\"five constant factors in what page ?\")"
   ]
  },
  {
   "cell_type": "code",
   "execution_count": 45,
   "metadata": {},
   "outputs": [],
   "source": [
    "prompt = ChatPromptTemplate.from_template(\"\"\"\n",
    "You are an assistant for question-answering tasks. Use the following pieces of retrieved context to help you answer the question. \n",
    "if user question about pages just explain the given context. because the context is the page content.  \n",
    "                                                                                    \n",
    "Question: {question} \n",
    "\n",
    "Context: {context}\n",
    "                                          \n",
    "Use the following metadata if you need it.           \n",
    "\n",
    "Answer:\n",
    "\n",
    "                                       \n",
    "\"\"\")\n",
    "\n",
    "def format_docs(docs):\n",
    "    context = f\"\"\"\n",
    "context : {\"\\n\\n\".join(doc.page_content for doc in docs)+\"\\n\\n\".join(str(doc.metadata[\"page\"]) for doc in docs)}\n",
    "\"\"\"\n",
    "    return context\n",
    "\n",
    "rag_chain = (\n",
    "    {\"context\": retriever | format_docs, \"question\": RunnablePassthrough()}\n",
    "    | prompt\n",
    "    | llm\n",
    "    | StrOutputParser()\n",
    ")"
   ]
  },
  {
   "cell_type": "code",
   "execution_count": 30,
   "metadata": {},
   "outputs": [
    {
     "data": {
      "text/plain": [
       "'Page 20 discusses the concept of energy in the context of fighting men. It compares their energy to that of rolling logs or stones, explaining that logs or stones remain motionless on level ground but move when on a slope. The text emphasizes that the energy developed by skilled fighters is akin to the momentum of a round stone rolling down a mountain, illustrating the idea of harnessing energy effectively in combat.'"
      ]
     },
     "execution_count": 30,
     "metadata": {},
     "output_type": "execute_result"
    }
   ],
   "source": [
    "rag_chain.invoke(\"tell me about page 20\")"
   ]
  },
  {
   "cell_type": "code",
   "execution_count": 47,
   "metadata": {},
   "outputs": [
    {
     "data": {
      "text/plain": [
       "'The concept of energy in fighting men is discussed on page 22 of the context provided. It describes how combined energy can make fighting men behave like rolling logs or stones, emphasizing the importance of momentum and the nature of energy in battle. The text also compares energy to the bending of a crossbow, highlighting the strategic aspects of maintaining order amidst chaos and utilizing the strengths of individuals effectively.'"
      ]
     },
     "execution_count": 47,
     "metadata": {},
     "output_type": "execute_result"
    }
   ],
   "source": [
    "rag_chain.invoke(\"tell me the concept of energy in fighting men in what page ?\")"
   ]
  },
  {
   "cell_type": "code",
   "execution_count": 46,
   "metadata": {},
   "outputs": [
    {
     "data": {
      "text/plain": [
       "'The five constant factors are discussed on page 1 of the provided context. They are identified as follows: \\n\\n1. The Moral Law\\n2. Heaven\\n3. Earth\\n4. The Commander\\n5. Method and discipline\\n\\nThese factors are essential for consideration in military strategy and decision-making, as they influence the conditions in the field.'"
      ]
     },
     "execution_count": 46,
     "metadata": {},
     "output_type": "execute_result"
    }
   ],
   "source": [
    "rag_chain.invoke(\"five constant factors in what page ?\")"
   ]
  },
  {
   "cell_type": "code",
   "execution_count": 49,
   "metadata": {},
   "outputs": [
    {
     "data": {
      "text/plain": [
       "\"The five constant factors mentioned in the context are essential elements to consider in the art of war. They are:\\n\\n1. **The Moral Law**: This factor ensures that the people are in complete accord with their ruler, leading them to follow him courageously, regardless of danger.\\n2. **Heaven**: This refers to the natural elements and conditions such as night and day, cold and heat, and the changing of seasons.\\n3. **Earth**: This encompasses the geographical and environmental aspects that can affect military operations.\\n4. **The Commander**: This factor highlights the importance of the leader's qualities and capabilities in guiding the army.\\n5. **Method and Discipline**: This involves the organization, training, and strategies employed by the military forces.\\n\\nThese factors are crucial for determining the conditions in the field during warfare.\""
      ]
     },
     "execution_count": 49,
     "metadata": {},
     "output_type": "execute_result"
    }
   ],
   "source": [
    "rag_chain.invoke(\"five constant factors\")"
   ]
  }
 ],
 "metadata": {
  "kernelspec": {
   "display_name": "Python 3",
   "language": "python",
   "name": "python3"
  },
  "language_info": {
   "codemirror_mode": {
    "name": "ipython",
    "version": 3
   },
   "file_extension": ".py",
   "mimetype": "text/x-python",
   "name": "python",
   "nbconvert_exporter": "python",
   "pygments_lexer": "ipython3",
   "version": "3.12.7"
  }
 },
 "nbformat": 4,
 "nbformat_minor": 2
}
